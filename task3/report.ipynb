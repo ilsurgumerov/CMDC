{
 "cells": [
  {
   "cell_type": "code",
   "execution_count": 2,
   "id": "3cbec967",
   "metadata": {},
   "outputs": [
    {
     "name": "stdout",
     "output_type": "stream",
     "text": [
      "Requirement already satisfied: numpy in c:\\users\\user\\anaconda3\\lib\\site-packages (1.26.4)\n",
      "Collecting opencv-python\n",
      "  Downloading opencv_python-4.11.0.86-cp37-abi3-win_amd64.whl.metadata (20 kB)\n",
      "Downloading opencv_python-4.11.0.86-cp37-abi3-win_amd64.whl (39.5 MB)\n",
      "   ---------------------------------------- 0.0/39.5 MB ? eta -:--:--\n",
      "   - -------------------------------------- 1.0/39.5 MB 10.1 MB/s eta 0:00:04\n",
      "   --- ------------------------------------ 3.1/39.5 MB 10.8 MB/s eta 0:00:04\n",
      "   ----- ---------------------------------- 5.8/39.5 MB 11.4 MB/s eta 0:00:03\n",
      "   -------- ------------------------------- 8.1/39.5 MB 11.4 MB/s eta 0:00:03\n",
      "   ---------- ----------------------------- 10.5/39.5 MB 11.5 MB/s eta 0:00:03\n",
      "   ------------- -------------------------- 12.8/39.5 MB 11.5 MB/s eta 0:00:03\n",
      "   --------------- ------------------------ 15.5/39.5 MB 11.6 MB/s eta 0:00:03\n",
      "   ------------------ --------------------- 17.8/39.5 MB 11.6 MB/s eta 0:00:02\n",
      "   -------------------- ------------------- 20.2/39.5 MB 11.6 MB/s eta 0:00:02\n",
      "   ---------------------- ----------------- 22.5/39.5 MB 11.6 MB/s eta 0:00:02\n",
      "   ------------------------- -------------- 25.2/39.5 MB 11.6 MB/s eta 0:00:02\n",
      "   --------------------------- ------------ 27.5/39.5 MB 11.6 MB/s eta 0:00:02\n",
      "   ------------------------------ --------- 29.9/39.5 MB 11.6 MB/s eta 0:00:01\n",
      "   -------------------------------- ------- 32.2/39.5 MB 11.6 MB/s eta 0:00:01\n",
      "   ----------------------------------- ---- 34.6/39.5 MB 11.7 MB/s eta 0:00:01\n",
      "   ------------------------------------- -- 37.2/39.5 MB 11.7 MB/s eta 0:00:01\n",
      "   ---------------------------------------  39.3/39.5 MB 11.7 MB/s eta 0:00:01\n",
      "   ---------------------------------------- 39.5/39.5 MB 11.4 MB/s eta 0:00:00\n",
      "Installing collected packages: opencv-python\n",
      "Successfully installed opencv-python-4.11.0.86\n"
     ]
    }
   ],
   "source": [
    "!pip install numpy opencv-python"
   ]
  },
  {
   "cell_type": "markdown",
   "id": "5fb723bd",
   "metadata": {},
   "source": [
    "# Основные функции"
   ]
  },
  {
   "cell_type": "code",
   "execution_count": 158,
   "id": "d9a4c169",
   "metadata": {},
   "outputs": [],
   "source": [
    "import cv2\n",
    "import numpy as np\n",
    "import zlib\n",
    "import os\n",
    "import matplotlib.pyplot as plt\n",
    "\n",
    "# Предикторы\n",
    "# ......................\n",
    "# .... | C | B | D | ...\n",
    "# .... | A | X |   | ...   \n",
    "# ......................\n",
    "# X - предсказываемый пиксель\n",
    "\n",
    "# Пустой предиктор \n",
    "def predictor_none(row: int, col: int, image: np.ndarray) -> int:\n",
    "    return 0\n",
    "\n",
    "# Левый предиктор: predict(A)\n",
    "def predictor_left(row: int, col: int, image: np.ndarray) -> int:\n",
    "    return int(image[row, col - 1]) if col > 0 else 0\n",
    "\n",
    "# Верхний предиктор: predict(B)\n",
    "def predictor_up(row: int, col: int, image: np.ndarray) -> int:\n",
    "    return int(image[row - 1, col]) if row > 0 else 0\n",
    "\n",
    "# Срднее: predict((A + B) / 2)\n",
    "def predictor_average(row: int, col: int, image: np.ndarray) -> int:\n",
    "    a = predictor_left(row, col, image)\n",
    "    b = predictor_up(row, col, image)\n",
    "    return (a + b) // 2\n",
    "\n",
    "# Ближайшая из A,B,C к A + B - C\n",
    "def predictor_paeth(row: int, col: int, image: np.ndarray) -> int:\n",
    "    a = predictor_left(row, col, image)\n",
    "    b = predictor_up(row, col, image)\n",
    "    c = int(image[row - 1, col - 1]) if row > 0 and col > 0 else 0\n",
    "    p = a + b - c\n",
    "    pa, pb, pc = abs(p - a), abs(p - b), abs(p - c)\n",
    "    return a if pa <= pb and pa <= pc else b if pb <= pc else c\n",
    "\n",
    "# Предикторы, из которых выбираем для каждого пикселя свой\n",
    "PREDICTORS = [\n",
    "    predictor_none, \n",
    "    predictor_left, \n",
    "    predictor_up,\n",
    "    predictor_average,\n",
    "    predictor_paeth\n",
    "]\n",
    "\n",
    "# По изображению находим его сериализованную матрицу ошибок\n",
    "def image2residuals(image: np.ndarray, N=10) -> np.ndarray:\n",
    "    \"\"\"\n",
    "    Кодирует изображение в вектор остатков (residuals),\n",
    "    при этом первый пиксель не предсказывается, а сохраняется как есть.\n",
    "\n",
    "    Параметры:\n",
    "        image - grayscale изображение (uint8)\n",
    "        N - глубина окна ошибок для адаптивного выбора предиктора\n",
    "\n",
    "    Возвращает:\n",
    "        1D-массив остатков (int16)\n",
    "    \"\"\"\n",
    "    if len(image.shape) != 2:\n",
    "        raise ValueError(\"Only grayscale images are supported\")\n",
    "    \n",
    "    image = image.astype(np.int16)\n",
    "    h, w = image.shape\n",
    "    prediction_image = np.zeros_like(image, dtype=np.int16)\n",
    "    residuals = np.zeros_like(image, dtype=np.int16)\n",
    "\n",
    "    for row in range(h):\n",
    "        row_errors = np.zeros((N, len(PREDICTORS)))\n",
    "\n",
    "        for col in range(w):\n",
    "            actual = int(image[row, col])\n",
    "\n",
    "            if col == 0:\n",
    "                if row == 0:\n",
    "                    # Первый пиксель всего изображения сохраняем как есть\n",
    "                    prediction_image[row, col] = 0\n",
    "                    residuals[row, col] = actual\n",
    "                else:\n",
    "                    # Предсказываем первый пиксель строки по верху\n",
    "                    pred = predictor_up(row, col, image)\n",
    "                    prediction_image[row, col] = pred\n",
    "                    residuals[row, col] = actual - pred\n",
    "                continue\n",
    "\n",
    "            # Выбираем лучший предиктор по средним ошибкам за последние N шагов\n",
    "            if col > 1:\n",
    "                row_means = row_errors[0:min(col, N), :].mean(axis=0)\n",
    "                best_idx = int(np.argmin(row_means))\n",
    "            else:\n",
    "                best_idx = 1\n",
    "\n",
    "            pred = PREDICTORS[best_idx](row, col, image)\n",
    "            prediction_image[row, col] = pred\n",
    "            residuals[row, col] = actual - pred\n",
    "\n",
    "            # Обновляем матрицу ошибок\n",
    "            row_errors = np.roll(row_errors, shift=1, axis=0)\n",
    "            for k, fn in enumerate(PREDICTORS):\n",
    "                p = fn(row, col, image)\n",
    "                row_errors[0, k] = (actual - p) ** 2\n",
    "\n",
    "    return residuals.reshape(-1)\n",
    "\n",
    "# По одномерной матрице ошибок и размерам изображения находим изображение\n",
    "def residuals2image(residuals: np.ndarray, h: int, w: int, N=10) -> np.ndarray:\n",
    "    \"\"\"\n",
    "    Восстанавливает изображение из массива остатков.\n",
    "    Первый пиксель восстанавливается напрямую,\n",
    "    остальные — по предсказаниям и остаткам.\n",
    "\n",
    "    Параметры:\n",
    "        residuals — 1D массив остатков (int16)\n",
    "        h, w — размеры изображения\n",
    "        N — глубина окна ошибок\n",
    "\n",
    "    Возвращает:\n",
    "        Восстановленное изображение (uint8)\n",
    "    \"\"\"\n",
    "    residuals = residuals.reshape((h, w))\n",
    "    image = np.zeros((h, w), dtype=np.int16)\n",
    "\n",
    "    for row in range(h):\n",
    "        row_errors = np.zeros((N, len(PREDICTORS)))\n",
    "\n",
    "        for col in range(w):\n",
    "            if col == 0:\n",
    "                if row == 0:\n",
    "                    # Первый пиксель всего изображения восстанавливаем напрямую\n",
    "                    image[row, col] = residuals[row, col]\n",
    "                else:\n",
    "                    # Предсказываем первый пиксель строки по верху\n",
    "                    pred = predictor_up(row, col, image)\n",
    "                    image[row, col] = pred + residuals[row, col]\n",
    "                continue\n",
    "\n",
    "            if col > 1:\n",
    "                row_means = row_errors[0:min(col, N), :].mean(axis=0)\n",
    "                best_idx = int(np.argmin(row_means))\n",
    "            else:\n",
    "                best_idx = 1\n",
    "\n",
    "            pred = PREDICTORS[best_idx](row, col, image)\n",
    "            image[row, col] = pred + residuals[row, col]\n",
    "\n",
    "            # Обновляем ошибки\n",
    "            row_errors = np.roll(row_errors, shift=1, axis=0)\n",
    "            for k, fn in enumerate(PREDICTORS):\n",
    "                p = fn(row, col, image)\n",
    "                row_errors[0, k] = (image[row, col] - p) ** 2\n",
    "\n",
    "    return np.clip(image, 0, 255).astype(np.uint8)"
   ]
  },
  {
   "cell_type": "markdown",
   "id": "24efffa4",
   "metadata": {},
   "source": [
    "# Проверка кодера и декодера изображений"
   ]
  },
  {
   "cell_type": "markdown",
   "id": "1443327b",
   "metadata": {},
   "source": [
    "Проверка работы на примере"
   ]
  },
  {
   "cell_type": "code",
   "execution_count": 159,
   "id": "91d3e3a6",
   "metadata": {},
   "outputs": [
    {
     "name": "stdout",
     "output_type": "stream",
     "text": [
      "Оригинальный размер: (441, 660)\n",
      "Совпадает ли восстановленное изображение с оригиналом? True\n"
     ]
    }
   ],
   "source": [
    "img = cv2.imread(\"example.jpg\")\n",
    "if img is None:\n",
    "    raise FileNotFoundError(\"example.jpg not found\")\n",
    "\n",
    "img_gray = cv2.cvtColor(img, cv2.COLOR_BGR2GRAY)\n",
    "cv2.imwrite(\"exapmle_gray.jpg\", img_gray)\n",
    "print(\"Оригинальный размер:\", img_gray.shape)\n",
    "\n",
    "N = 10\n",
    "\n",
    "residuals = image2residuals(img_gray, N)\n",
    "\n",
    "reconstructed_image = residuals2image(residuals, img_gray.shape[0], img_gray.shape[1], N)\n",
    "\n",
    "print(\"Совпадает ли восстановленное изображение с оригиналом?\", np.allclose(img_gray, reconstructed_image))"
   ]
  },
  {
   "cell_type": "markdown",
   "id": "5961aaf1",
   "metadata": {},
   "source": [
    "Проверка распределния отклонения (должно быть похоже на нормальное с мат. ожиданием 0)"
   ]
  },
  {
   "cell_type": "code",
   "execution_count": 160,
   "id": "1b6a7eac",
   "metadata": {},
   "outputs": [
    {
     "data": {
      "image/png": "[encoded data removed]",
      "text/plain": [
       "<Figure size 640x480 with 1 Axes>"
      ]
     },
     "metadata": {},
     "output_type": "display_data"
    }
   ],
   "source": [
    "import matplotlib.pyplot as plt\n",
    "\n",
    "plt.hist(residuals, bins=1000, edgecolor='black', alpha=0.8, density=True)\n",
    "plt.title('Гистограмма распределения residual')\n",
    "plt.xlabel('Частота')\n",
    "plt.ylabel('Доля')\n",
    "plt.grid(True, linestyle='--', alpha=0.5)\n",
    "plt.show()"
   ]
  },
  {
   "cell_type": "markdown",
   "id": "643bab62",
   "metadata": {},
   "source": [
    "# Выбор кодера для полученной матрицы ошибок"
   ]
  },
  {
   "cell_type": "markdown",
   "id": "b6e77f98",
   "metadata": {},
   "source": [
    "Смотрим различные варианты кодировать массива, где значения будут в промежутке [-255 : 255]. Большинство значений близки к 0, поэтому это стоит учитывать для выбора наилучшего кодера\n",
    "\n",
    "Для многих методов нужны положительные значения, поэтому вместе с residuals будет использоваться массив residuals_shifted, в котором числа смещены на min(residual), чтобы минимальное число было 0."
   ]
  },
  {
   "cell_type": "code",
   "execution_count": 201,
   "id": "648bebd7",
   "metadata": {},
   "outputs": [],
   "source": [
    "min_val = residuals.min()\n",
    "residuals_shifted = residuals - min_val"
   ]
  },
  {
   "cell_type": "markdown",
   "id": "cb4a94dd",
   "metadata": {},
   "source": [
    "## Арифметическое кодирование"
   ]
  },
  {
   "cell_type": "markdown",
   "id": "7694515d",
   "metadata": {},
   "source": [
    "### Реализация для статического арифмитического кодирования"
   ]
  },
  {
   "cell_type": "code",
   "execution_count": 202,
   "id": "cd42a469",
   "metadata": {},
   "outputs": [],
   "source": [
    "from collections import Counter, deque\n",
    "\n",
    "class ArithmeticEncoder:\n",
    "    def __init__(self, bit_precision):\n",
    "        self.bit_precision = bit_precision\n",
    "        self.max_num = 2 ** bit_precision\n",
    "        self.low = 0\n",
    "        self.high = self.max_num - 1\n",
    "        self.pending_bits = 0\n",
    "        self.encode = \"\"\n",
    "\n",
    "        self.full_mask = (1 << bit_precision) - 1\n",
    "        self.highest_bit = 1 << (bit_precision - 1)\n",
    "        self.pre_highest_bit = self.highest_bit >> 1\n",
    "\n",
    "    def _shift(self):\n",
    "        bit = self.low >> (self.bit_precision - 1)\n",
    "        self.encode += str(bit)\n",
    "        for _ in range(self.pending_bits):\n",
    "            self.encode += str(bit ^ 1)\n",
    "        self.pending_bits = 0\n",
    "\n",
    "    def encode_symbol(self, symb_interval):\n",
    "        interval_start, interval_end = symb_interval\n",
    "        range_size = self.high - self.low + 1\n",
    "\n",
    "        new_low = self.low + interval_start * range_size // (self.max_num - 1)\n",
    "        new_high = self.low + interval_end * range_size // (self.max_num - 1) - 1\n",
    "\n",
    "        self.low = new_low\n",
    "        self.high = new_high\n",
    "\n",
    "        while ((self.low ^ self.high) & self.highest_bit) == 0:\n",
    "            self._shift()\n",
    "            self.low = ((self.low << 1) & self.full_mask)\n",
    "            self.high = ((self.high << 1) & self.full_mask) | 1\n",
    "\n",
    "        while (self.low & ~self.high & self.pre_highest_bit) != 0:\n",
    "            self.pending_bits += 1\n",
    "            self.low = (self.low << 1) ^ self.highest_bit\n",
    "            self.high = ((self.high ^ self.highest_bit) << 1) | self.highest_bit | 1\n",
    "\n",
    "    def finish(self):\n",
    "        self.encode += '1'\n",
    "\n",
    "\n",
    "class ArithmeticDecoder:\n",
    "    def __init__(self, encode_text, len_text, bit_precision):\n",
    "        self.bit_precision = bit_precision\n",
    "        self.max_num = 2 ** bit_precision\n",
    "        self.low = 0\n",
    "        self.high = self.max_num - 1\n",
    "\n",
    "        self.input = deque(encode_text)\n",
    "        self.len_text = len_text\n",
    "        self.code = 0\n",
    "        for _ in range(self.bit_precision):\n",
    "            self.code = self.code << 1 | self.read_code_bit()\n",
    "\n",
    "        self.full_mask = (1 << bit_precision) - 1\n",
    "        self.highest_bit = 1 << (bit_precision - 1)\n",
    "        self.pre_highest_bit = self.highest_bit >> 1\n",
    "\n",
    "    def read_code_bit(self):\n",
    "        temp = int(self.input.popleft()) if len(self.input) else 0\n",
    "        self.len_text -= 1\n",
    "        return temp\n",
    "\n",
    "    def decode_symbol(self, symbs_interval):\n",
    "        range_size = self.high - self.low + 1\n",
    "        offset = self.code - self.low\n",
    "        value = ((offset + 1) * (self.max_num - 1) - 1) // range_size\n",
    "\n",
    "        symbol = 0\n",
    "        maxLow = None\n",
    "        for k, r in symbs_interval.items():\n",
    "            if r[1] != 0:\n",
    "                if r[0] <= value:\n",
    "                    if maxLow is None or r[0] > maxLow[0]:\n",
    "                        maxLow = r\n",
    "                        symbol = k\n",
    "\n",
    "        interval_start, interval_end = maxLow\n",
    "        new_low = self.low + interval_start * range_size // (self.max_num - 1)\n",
    "        new_high = self.low + interval_end * range_size // (self.max_num - 1) - 1\n",
    "\n",
    "        self.low = new_low\n",
    "        self.high = new_high\n",
    "\n",
    "        while ((self.low ^ self.high) & self.highest_bit) == 0:\n",
    "            self.code = ((self.code << 1) & self.full_mask) | self.read_code_bit()\n",
    "            self.low = ((self.low << 1) & self.full_mask)\n",
    "            self.high = ((self.high << 1) & self.full_mask) | 1\n",
    "\n",
    "        while (self.low & ~self.high & self.pre_highest_bit) != 0:\n",
    "            self.code = (self.code & self.highest_bit) | ((self.code << 1) & (self.full_mask >> 1)) | self.read_code_bit()\n",
    "            self.low = (self.low << 1) ^ self.highest_bit\n",
    "            self.high = ((self.high ^ self.highest_bit) << 1) | self.highest_bit | 1\n",
    "\n",
    "        return symbol\n",
    "\n",
    "\n",
    "def make_intervals_static_array(array, bit_precision):\n",
    "    from collections import defaultdict\n",
    "    max_num = 2 ** bit_precision\n",
    "    total = len(array)\n",
    "    counts = Counter(array)\n",
    "\n",
    "    symbols = list(counts.keys())\n",
    "    probs = {k: counts[k] / total for k in symbols}\n",
    "\n",
    "    # Построение интервалов\n",
    "    intervals = {}\n",
    "    sum_prob = 0\n",
    "    for i, sym in enumerate(symbols):\n",
    "        if i == len(symbols) - 1:\n",
    "            # Последнему символу отдаем всё оставшееся пространство\n",
    "            start = sum_prob\n",
    "            end = max_num - 1\n",
    "        else:\n",
    "            start = sum_prob\n",
    "            width = round(probs[sym] * (max_num - 1))\n",
    "            end = start + width\n",
    "            if end > max_num - 1:\n",
    "                end = max_num - 1\n",
    "        intervals[sym] = (start, end)\n",
    "        sum_prob = end\n",
    "\n",
    "    return intervals\n",
    "\n",
    "\n",
    "def arithm_encode_static_array(arr, bit_precision=16):\n",
    "    intervals = make_intervals_static_array(arr, bit_precision)\n",
    "    encoder = ArithmeticEncoder(bit_precision)\n",
    "    for x in arr:\n",
    "        encoder.encode_symbol(intervals[x])\n",
    "    encoder.finish()\n",
    "    return encoder.encode, intervals\n",
    "\n",
    "\n",
    "def arithm_decode_static_array(encoded_bits, length, intervals, bit_precision=16):\n",
    "    decoder = ArithmeticDecoder(encoded_bits, length, bit_precision)\n",
    "    result = []\n",
    "    for _ in range(length):\n",
    "        symbol = decoder.decode_symbol(intervals)\n",
    "        result.append(symbol)\n",
    "    return result"
   ]
  },
  {
   "cell_type": "markdown",
   "id": "36cb5247",
   "metadata": {},
   "source": [
    "### Проверка кодера и декодера"
   ]
  },
  {
   "cell_type": "code",
   "execution_count": 252,
   "id": "2204c1a0",
   "metadata": {},
   "outputs": [
    {
     "name": "stdout",
     "output_type": "stream",
     "text": [
      "Арифметическое кодирование совпадает? True\n",
      "Арифм. сжатие: 141807.375 / 291060 = 48.72%\n"
     ]
    }
   ],
   "source": [
    "# Так как много интервалов приходится брать большое число, из-за чего время расчетов увеличивается\n",
    "bit_precision = 24\n",
    "\n",
    "compressed_arihm, intervals = arithm_encode_static_array(residuals_shifted, bit_precision)\n",
    "\n",
    "decompressed_arihm = arithm_decode_static_array(compressed_arihm, len(residuals_shifted), intervals, bit_precision)\n",
    "\n",
    "print(\"Арифметическое кодирование совпадает?\", np.array_equal(residuals_shifted, decompressed_arihm))\n",
    "print(f\"Арифм. сжатие: {len(compressed_arihm) / 8} / {len(residuals_shifted)} = {100 * len(compressed_arihm)/8/len(residuals_shifted):.2f}%\")"
   ]
  },
  {
   "cell_type": "markdown",
   "id": "b1600438",
   "metadata": {},
   "source": [
    "Если кодировать без residual, а сразу изображение:"
   ]
  },
  {
   "cell_type": "code",
   "execution_count": 257,
   "id": "16ea0edf",
   "metadata": {},
   "outputs": [
    {
     "name": "stdout",
     "output_type": "stream",
     "text": [
      "Арифметическое кодирование совпадает? False\n",
      "Арифм. сжатие: 535464 / 2328480 = 23.00%\n"
     ]
    }
   ],
   "source": [
    "bit_precision = 16\n",
    "\n",
    "compressed_arihm, intervals = arithm_encode_static_array(img_gray.reshape(-1), bit_precision)\n",
    "\n",
    "decompressed_arihm = arithm_decode_static_array(compressed_arihm, len(img_gray.reshape(-1)), intervals, bit_precision)\n",
    "\n",
    "print(\"Арифметическое кодирование совпадает?\", np.array_equal(img_gray.reshape(-1), decompressed_arihm))\n",
    "print(f\"Арифм. сжатие: {len(compressed_arihm)} / {len(img_gray.reshape(-1)) * 8} = {100 * len(compressed_arihm)/len(img_gray.reshape(-1))/8:.2f}%\")"
   ]
  },
  {
   "cell_type": "markdown",
   "id": "238832f7",
   "metadata": {},
   "source": [
    "## Zlib"
   ]
  },
  {
   "cell_type": "code",
   "execution_count": 253,
   "id": "12c9649f",
   "metadata": {},
   "outputs": [
    {
     "name": "stdout",
     "output_type": "stream",
     "text": [
      "Zlib совпадает? True\n",
      "Zlib сжатие: 188760 / 291060 = 64.85%\n"
     ]
    }
   ],
   "source": [
    "import numpy as np\n",
    "import zlib\n",
    "\n",
    "residuals_bytes = residuals.tobytes()\n",
    "compressed_zlib = zlib.compress(residuals_bytes)\n",
    "decompressed_zlib = np.frombuffer(zlib.decompress(compressed_zlib), dtype=np.int16)\n",
    "\n",
    "print(\"Zlib совпадает?\", np.array_equal(residuals, decompressed_zlib))\n",
    "print(f\"Zlib сжатие: {len(compressed_zlib)} / {len(residuals_shifted)} = {100 * len(compressed_zlib)/len(residuals_shifted):.2f}%\")"
   ]
  },
  {
   "cell_type": "markdown",
   "id": "297da798",
   "metadata": {},
   "source": [
    "Если кодировать без residual, а сразу изображение:"
   ]
  },
  {
   "cell_type": "code",
   "execution_count": 255,
   "id": "32e23a6b",
   "metadata": {},
   "outputs": [
    {
     "name": "stdout",
     "output_type": "stream",
     "text": [
      "Zlib совпадает? False\n",
      "Zlib сжатие: 196198 / 291060 = 67.41%\n"
     ]
    }
   ],
   "source": [
    "import numpy as np\n",
    "import zlib\n",
    "\n",
    "residuals_bytes = img_gray.reshape(-1).tobytes()\n",
    "compressed_zlib = zlib.compress(residuals_bytes)\n",
    "decompressed_zlib = np.frombuffer(zlib.decompress(compressed_zlib), dtype=np.int16)\n",
    "\n",
    "print(\"Zlib совпадает?\", np.array_equal(img_gray.reshape(-1), decompressed_zlib))\n",
    "print(f\"Zlib сжатие: {len(compressed_zlib)} / {len(img_gray.reshape(-1))} = {100 * len(compressed_zlib)/len(img_gray.reshape(-1)):.2f}%\")"
   ]
  },
  {
   "cell_type": "markdown",
   "id": "a5cda149",
   "metadata": {},
   "source": [
    "## Bz2"
   ]
  },
  {
   "cell_type": "code",
   "execution_count": 245,
   "id": "5123c6dc",
   "metadata": {},
   "outputs": [
    {
     "name": "stdout",
     "output_type": "stream",
     "text": [
      "bz2 совпадает? True\n",
      "bz2 сжатие: 155255 / 291060 = 53.34%\n"
     ]
    }
   ],
   "source": [
    "import bz2\n",
    "\n",
    "residuals_bytes = residuals.tobytes()\n",
    "compressed_bz2 = bz2.compress(residuals_bytes)\n",
    "decompressed_bz2 = np.frombuffer(bz2.decompress(compressed_bz2), dtype=np.int16)\n",
    "\n",
    "print(\"bz2 совпадает?\", np.array_equal(residuals, decompressed_bz2))\n",
    "print(f\"bz2 сжатие: {len(compressed_bz2)} / {len(decompressed_bz2)} = {100 * len(compressed_bz2)/len(residuals_shifted):.2f}%\")"
   ]
  },
  {
   "cell_type": "markdown",
   "id": "dda12299",
   "metadata": {},
   "source": [
    "## lzma"
   ]
  },
  {
   "cell_type": "code",
   "execution_count": 244,
   "id": "deee9a7d",
   "metadata": {},
   "outputs": [
    {
     "name": "stdout",
     "output_type": "stream",
     "text": [
      "lzma совпадает? True\n",
      "lzma сжатие: 154192 / 291060 = 52.98%\n"
     ]
    }
   ],
   "source": [
    "import lzma\n",
    "\n",
    "residuals_bytes = residuals.tobytes()\n",
    "compressed_lzma = lzma.compress(residuals_bytes)\n",
    "decompressed_lzma = np.frombuffer(lzma.decompress(compressed_lzma), dtype=np.int16)\n",
    "\n",
    "print(\"lzma совпадает?\", np.array_equal(residuals, decompressed_lzma))\n",
    "print(f\"lzma сжатие: {len(compressed_lzma)} / {len(decompressed_lzma)} = {100 * len(compressed_lzma)/len(decompressed_lzma):.2f}%\")"
   ]
  },
  {
   "cell_type": "markdown",
   "id": "b61c517b",
   "metadata": {},
   "source": [
    "## Elias gamma"
   ]
  },
  {
   "cell_type": "markdown",
   "id": "5d1e515f",
   "metadata": {},
   "source": [
    "### Реализация для случая с отрицательными числами (нумеруется 0, +1, -1, +2, -2 ...)"
   ]
  },
  {
   "cell_type": "code",
   "execution_count": 171,
   "id": "2ae571b8",
   "metadata": {},
   "outputs": [],
   "source": [
    "def map_signed_to_unsigned(n: int) -> int:\n",
    "    return 2 * abs(n) if n <= 0 else 2 * n - 1\n",
    "\n",
    "def map_unsigned_to_signed(n: int) -> int:\n",
    "    return -(n // 2) if n % 2 == 0 else (n + 1) // 2\n",
    "\n",
    "\n",
    "def encode_number_elias_gamma(n: int) -> str:\n",
    "    if n <= 0:\n",
    "        raise ValueError(\"n <= 0 gamma Elias code (internal usage)\")\n",
    "    binary = bin(n)[2:]  # без '0b' вначале\n",
    "    return '0' * (len(binary) - 1) + binary\n",
    "\n",
    "def decode_number_elias_gamma(bitstring: str, start=0):\n",
    "    i = start\n",
    "    zero_count = 0\n",
    "    while i < len(bitstring) and bitstring[i] == '0':\n",
    "        zero_count += 1\n",
    "        i += 1\n",
    "    \n",
    "    if i + zero_count >= len(bitstring):\n",
    "        raise ValueError(\"Incomplete Elias gamma code\")\n",
    "\n",
    "    binary = bitstring[i:i + zero_count + 1]\n",
    "    i += zero_count + 1\n",
    "    return int(binary, 2), i\n",
    "\n",
    "\n",
    "def encode_sequence_elias_gamma_signed(numbers: list[int]) -> str:\n",
    "    return ''.join(encode_number_elias_gamma(map_signed_to_unsigned(n) + 1) for n in numbers)\n",
    "\n",
    "def decode_sequence_elias_gamma_signed(bitstring: str) -> list[int]:\n",
    "    i = 0\n",
    "    result = []\n",
    "    while i < len(bitstring):\n",
    "        n, i = decode_number_elias_gamma(bitstring, i)\n",
    "        result.append(map_unsigned_to_signed(n - 1))\n",
    "    return result\n"
   ]
  },
  {
   "cell_type": "markdown",
   "id": "81929a4f",
   "metadata": {},
   "source": [
    "### Проверка кодера и декодера"
   ]
  },
  {
   "cell_type": "code",
   "execution_count": 258,
   "id": "c37253f7",
   "metadata": {},
   "outputs": [
    {
     "name": "stdout",
     "output_type": "stream",
     "text": [
      "Elias совпадает? True\n",
      "bz2 сжатие: 152459.75 / 291060 = 52.38%\n"
     ]
    }
   ],
   "source": [
    "min_val = residuals.min()\n",
    "residuals_shifted = residuals - min_val + 1 \n",
    "\n",
    "compressed_elias = encode_sequence_elias_gamma_signed(residuals)\n",
    "decompressed_elias = decode_sequence_elias_gamma_signed(compressed_elias)\n",
    "\n",
    "print(\"Elias совпадает?\", np.array_equal(residuals, decompressed_elias))\n",
    "print(f\"bz2 сжатие: {len(compressed_elias) / 8} / {len(residuals)} = {100 * len(compressed_elias)/8/len(residuals):.2f}%\")"
   ]
  }
 ],
 "metadata": {
  "kernelspec": {
   "display_name": "image_compr_env",
   "language": "python",
   "name": "python3"
  },
  "language_info": {
   "codemirror_mode": {
    "name": "ipython",
    "version": 3
   },
   "file_extension": ".py",
   "mimetype": "text/x-python",
   "name": "python",
   "nbconvert_exporter": "python",
   "pygments_lexer": "ipython3",
   "version": "3.12.9"
  }
 },
 "nbformat": 4,
 "nbformat_minor": 5
}
