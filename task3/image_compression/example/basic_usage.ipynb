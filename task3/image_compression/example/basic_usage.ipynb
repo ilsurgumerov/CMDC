{
 "cells": [
  {
   "cell_type": "code",
   "execution_count": 4,
   "id": "cfc62827",
   "metadata": {},
   "outputs": [
    {
     "ename": "TypeError",
     "evalue": "ImageEncoder._select_best_predictor() takes 3 positional arguments but 4 were given",
     "output_type": "error",
     "traceback": [
      "\u001b[1;31m---------------------------------------------------------------------------\u001b[0m",
      "\u001b[1;31mTypeError\u001b[0m                                 Traceback (most recent call last)",
      "Cell \u001b[1;32mIn[4], line 10\u001b[0m\n\u001b[0;32m      8\u001b[0m \u001b[38;5;66;03m# Кодирование\u001b[39;00m\n\u001b[0;32m      9\u001b[0m encoder \u001b[38;5;241m=\u001b[39m ImageEncoder(window_size\u001b[38;5;241m=\u001b[39m\u001b[38;5;241m10\u001b[39m)\n\u001b[1;32m---> 10\u001b[0m residuals \u001b[38;5;241m=\u001b[39m \u001b[43mencoder\u001b[49m\u001b[38;5;241;43m.\u001b[39;49m\u001b[43mencode\u001b[49m\u001b[43m(\u001b[49m\u001b[43mimage\u001b[49m\u001b[43m)\u001b[49m\n\u001b[0;32m     12\u001b[0m \u001b[38;5;66;03m# Декодирование\u001b[39;00m\n\u001b[0;32m     13\u001b[0m decoder \u001b[38;5;241m=\u001b[39m ImageDecoder(window_size\u001b[38;5;241m=\u001b[39m\u001b[38;5;241m10\u001b[39m)\n",
      "File \u001b[1;32m~\\Studies\\Combinatorial_coding_methods\\CMDC\\task3\\image_compression\\image_compression\\encoder.py:31\u001b[0m, in \u001b[0;36mImageEncoder.encode\u001b[1;34m(self, image)\u001b[0m\n\u001b[0;32m     28\u001b[0m         residuals[row, col] \u001b[38;5;241m=\u001b[39m actual \u001b[38;5;241m-\u001b[39m pred\n\u001b[0;32m     29\u001b[0m     \u001b[38;5;28;01mcontinue\u001b[39;00m\n\u001b[1;32m---> 31\u001b[0m best_idx \u001b[38;5;241m=\u001b[39m \u001b[38;5;28;43mself\u001b[39;49m\u001b[38;5;241;43m.\u001b[39;49m\u001b[43m_select_best_predictor\u001b[49m\u001b[43m(\u001b[49m\u001b[43mrow\u001b[49m\u001b[43m,\u001b[49m\u001b[43m \u001b[49m\u001b[43mcol\u001b[49m\u001b[43m,\u001b[49m\u001b[43m \u001b[49m\u001b[43mrow_errors\u001b[49m\u001b[43m)\u001b[49m\n\u001b[0;32m     32\u001b[0m pred \u001b[38;5;241m=\u001b[39m PREDICTORS[best_idx](row, col, image)\n\u001b[0;32m     33\u001b[0m residuals[row, col] \u001b[38;5;241m=\u001b[39m actual \u001b[38;5;241m-\u001b[39m pred\n",
      "\u001b[1;31mTypeError\u001b[0m: ImageEncoder._select_best_predictor() takes 3 positional arguments but 4 were given"
     ]
    }
   ],
   "source": [
    "from image_compression import ImageEncoder, ImageDecoder\n",
    "import cv2\n",
    "import numpy as np\n",
    "\n",
    "# Загрузка изображения\n",
    "image = cv2.imread('C:/Users/User/Studies/Combinatorial_coding_methods/CMDC/task3/example.jpg', cv2.IMREAD_GRAYSCALE)\n",
    "\n",
    "# Кодирование\n",
    "encoder = ImageEncoder(window_size=10)\n",
    "residuals = encoder.encode(image)\n",
    "\n",
    "# Декодирование\n",
    "decoder = ImageDecoder(window_size=10)\n",
    "reconstructed = decoder.decode(residuals, *image.shape)\n",
    "\n",
    "# Проверка\n",
    "print(\"Original shape:\", image.shape)\n",
    "print(\"Reconstructed matches original:\", np.allclose(image, reconstructed))"
   ]
  },
  {
   "cell_type": "code",
   "execution_count": null,
   "id": "354ac4ef",
   "metadata": {},
   "outputs": [
    {
     "name": "stdout",
     "output_type": "stream",
     "text": [
      "c:\\Users\\User\\anaconda3\\envs\\image_compr_env\\python.exe\n"
     ]
    }
   ],
   "source": [
    "import sys\n",
    "print(sys.executable)\n",
    "\n",
    "from image_compression import ImageEncoder"
   ]
  },
  {
   "cell_type": "code",
   "execution_count": null,
   "id": "19c43d8d",
   "metadata": {},
   "outputs": [],
   "source": []
  }
 ],
 "metadata": {
  "kernelspec": {
   "display_name": "image_compr_env",
   "language": "python",
   "name": "python3"
  },
  "language_info": {
   "codemirror_mode": {
    "name": "ipython",
    "version": 3
   },
   "file_extension": ".py",
   "mimetype": "text/x-python",
   "name": "python",
   "nbconvert_exporter": "python",
   "pygments_lexer": "ipython3",
   "version": "3.12.9"
  }
 },
 "nbformat": 4,
 "nbformat_minor": 5
}
