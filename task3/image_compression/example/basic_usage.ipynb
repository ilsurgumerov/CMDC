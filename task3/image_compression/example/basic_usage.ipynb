{
 "cells": [
  {
   "cell_type": "code",
   "execution_count": 4,
   "id": "cfc62827",
   "metadata": {},
   "outputs": [
    {
     "name": "stdout",
     "output_type": "stream",
     "text": [
      "Original shape: (441, 660)\n",
      "Reconstructed matches original: True\n"
     ]
    }
   ],
   "source": [
    "from image_compression import ImageEncoder, ImageDecoder\n",
    "import cv2\n",
    "import numpy as np\n",
    "\n",
    "# Загрузка изображения\n",
    "image = cv2.imread('C:/Users/User/Studies/Combinatorial_coding_methods/CMDC/task3/example.jpg', cv2.IMREAD_GRAYSCALE)\n",
    "\n",
    "# Кодирование\n",
    "encoder = ImageEncoder(window_size=10)\n",
    "residuals = encoder.encode(image)\n",
    "\n",
    "# Декодирование\n",
    "decoder = ImageDecoder(window_size=10)\n",
    "reconstructed = decoder.decode(residuals, *image.shape)\n",
    "\n",
    "# Проверка\n",
    "print(\"Original shape:\", image.shape)\n",
    "print(\"Reconstructed matches original:\", np.allclose(image, reconstructed))"
   ]
  },
  {
   "cell_type": "code",
   "execution_count": null,
   "id": "354ac4ef",
   "metadata": {},
   "outputs": [
    {
     "name": "stdout",
     "output_type": "stream",
     "text": [
      "c:\\Users\\User\\anaconda3\\envs\\image_compr_env\\python.exe\n"
     ]
    }
   ],
   "source": [
    "import sys\n",
    "print(sys.executable)\n",
    "\n",
    "from image_compression import ImageEncoder"
   ]
  }
 ],
 "metadata": {
  "kernelspec": {
   "display_name": "image_compr_env",
   "language": "python",
   "name": "python3"
  },
  "language_info": {
   "codemirror_mode": {
    "name": "ipython",
    "version": 3
   },
   "file_extension": ".py",
   "mimetype": "text/x-python",
   "name": "python",
   "nbconvert_exporter": "python",
   "pygments_lexer": "ipython3",
   "version": "3.12.9"
  }
 },
 "nbformat": 4,
 "nbformat_minor": 5
}
